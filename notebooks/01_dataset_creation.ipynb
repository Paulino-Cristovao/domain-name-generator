{
 "cells": [
  {
   "cell_type": "markdown",
   "metadata": {},
   "source": [
    "# Domain Name Generator: Dataset Creation\n",
    "\n",
    "This notebook demonstrates how to create synthetic training data for domain name generation models.\n",
    "\n",
    "## Overview\n",
    "- Generate diverse business descriptions\n",
    "- Create positive and negative domain examples\n",
    "- Prepare data for model training\n",
    "- Generate edge cases for testing"
   ]
  },
  {
   "cell_type": "code",
   "execution_count": null,
   "metadata": {},
   "outputs": [],
   "source": [
    "import sys\n",
    "import os\n",
    "sys.path.append('../src')\n",
    "\n",
    "import json\n",
    "import pandas as pd\n",
    "import matplotlib.pyplot as plt\n",
    "import seaborn as sns\n",
    "from pathlib import Path\n",
    "\n",
    "from domain_generator.data.synthetic_generator import SyntheticDataGenerator\n",
    "from domain_generator.utils.config import Config"
   ]
  },
  {
   "cell_type": "markdown",
   "metadata": {},
   "source": [
    "## 1. Initialize Data Generator"
   ]
  },
  {
   "cell_type": "code",
   "execution_count": null,
   "metadata": {},
   "outputs": [],
   "source": [
    "# Initialize configuration and generator\n",
    "config = Config()\n",
    "generator = SyntheticDataGenerator()\n",
    "\n",
    "print(f\"Business types: {list(generator.vocabulary['business_types'].keys())}\")\n",
    "print(f\"Complexity levels: {list(generator.business_templates.keys())}\")"
   ]
  },
  {
   "cell_type": "markdown",
   "metadata": {},
   "source": [
    "## 2. Generate Sample Business Descriptions"
   ]
  },
  {
   "cell_type": "code",
   "execution_count": null,
   "metadata": {},
   "outputs": [],
   "source": [
    "# Generate sample business descriptions\n",
    "sample_businesses = []\n",
    "\n",
    "for business_type in ['restaurants', 'tech_startups', 'healthcare']:\n",
    "    for complexity in ['simple', 'medium', 'complex']:\n",
    "        business = generator.generate_business_description(business_type, complexity)\n",
    "        sample_businesses.append({\n",
    "            'type': business_type,\n",
    "            'complexity': complexity,\n",
    "            'description': business.description,\n",
    "            'keywords': business.keywords\n",
    "        })\n",
    "\n",
    "# Display samples\n",
    "for business in sample_businesses:\n",
    "    print(f\"Type: {business['type']}, Complexity: {business['complexity']}\")\n",
    "    print(f\"Description: {business['description']}\")\n",
    "    print(f\"Keywords: {business['keywords']}\")\n",
    "    print(\"-\" * 80)"
   ]
  },
  {
   "cell_type": "markdown",
   "metadata": {},
   "source": [
    "## 3. Generate Domain Suggestions Examples"
   ]
  },
  {
   "cell_type": "code",
   "execution_count": null,
   "metadata": {},
   "outputs": [],
   "source": [
    "# Generate domain suggestions for a sample business\n",
    "sample_business = generator.generate_business_description('tech_startups', 'medium')\n",
    "\n",
    "print(f\"Business: {sample_business.description}\")\n",
    "print(f\"Keywords: {sample_business.keywords}\")\n",
    "print()\n",
    "\n",
    "# Generate different quality domains\n",
    "good_domains = generator.generate_domain_suggestions(sample_business, 'good')\n",
    "mediocre_domains = generator.generate_domain_suggestions(sample_business, 'mediocre')\n",
    "bad_domains = generator.generate_domain_suggestions(sample_business, 'bad')\n",
    "\n",
    "print(\"Good domains:\")\n",
    "for domain in good_domains:\n",
    "    print(f\"  {domain}\")\n",
    "\n",
    "print(\"\\nMediocre domains:\")\n",
    "for domain in mediocre_domains:\n",
    "    print(f\"  {domain}\")\n",
    "\n",
    "print(\"\\nBad domains:\")\n",
    "for domain in bad_domains:\n",
    "    print(f\"  {domain}\")"
   ]
  },
  {
   "cell_type": "markdown",
   "metadata": {},
   "source": [
    "## 4. Generate Training Dataset"
   ]
  },
  {
   "cell_type": "code",
   "execution_count": null,
   "metadata": {},
   "outputs": [],
   "source": [
    "# Generate training dataset\n",
    "print(\"Generating training dataset...\")\n",
    "dataset = generator.generate_training_dataset(num_samples=1000)\n",
    "\n",
    "print(f\"Generated {len(dataset)} training examples\")\n",
    "\n",
    "# Show sample training example\n",
    "sample = dataset[0]\n",
    "print(\"\\nSample training example:\")\n",
    "print(f\"Business: {sample['business_description']}\")\n",
    "print(f\"Type: {sample['business_type']}\")\n",
    "print(f\"Complexity: {sample['complexity']}\")\n",
    "print(f\"Keywords: {sample['keywords']}\")\n",
    "print(f\"Good domains: {sample['good_domains']}\")\n",
    "print(\"\\nTraining prompt:\")\n",
    "print(sample['prompt'])\n",
    "print(\"\\nExpected completion:\")\n",
    "print(sample['completion'])"
   ]
  },
  {
   "cell_type": "markdown",
   "metadata": {},
   "source": [
    "## 5. Dataset Analysis"
   ]
  },
  {
   "cell_type": "code",
   "execution_count": null,
   "metadata": {},
   "outputs": [],
   "source": [
    "# Analyze dataset composition\n",
    "df = pd.DataFrame(dataset)\n",
    "\n",
    "print(\"Dataset Statistics:\")\n",
    "print(f\"Total samples: {len(df)}\")\n",
    "print(f\"Business types: {df['business_type'].nunique()}\")\n",
    "print(f\"Complexity levels: {df['complexity'].nunique()}\")\n",
    "\n",
    "# Plot distribution\n",
    "fig, axes = plt.subplots(1, 2, figsize=(15, 5))\n",
    "\n",
    "# Business type distribution\n",
    "df['business_type'].value_counts().plot(kind='bar', ax=axes[0])\n",
    "axes[0].set_title('Business Type Distribution')\n",
    "axes[0].set_xlabel('Business Type')\n",
    "axes[0].set_ylabel('Count')\n",
    "axes[0].tick_params(axis='x', rotation=45)\n",
    "\n",
    "# Complexity distribution\n",
    "df['complexity'].value_counts().plot(kind='bar', ax=axes[1])\n",
    "axes[1].set_title('Complexity Level Distribution')\n",
    "axes[1].set_xlabel('Complexity')\n",
    "axes[1].set_ylabel('Count')\n",
    "\n",
    "plt.tight_layout()\n",
    "plt.show()"
   ]
  },
  {
   "cell_type": "code",
   "execution_count": null,
   "metadata": {},
   "outputs": [],
   "source": [
    "# Analyze domain quality distribution\n",
    "all_good_domains = []\n",
    "all_bad_domains = []\n",
    "\n",
    "for example in dataset:\n",
    "    all_good_domains.extend(example['good_domains'])\n",
    "    all_bad_domains.extend(example['bad_domains'])\n",
    "\n",
    "print(f\"Total good domains generated: {len(all_good_domains)}\")\n",
    "print(f\"Total bad domains generated: {len(all_bad_domains)}\")\n",
    "\n",
    "# Analyze domain lengths\n",
    "good_lengths = [len(domain.split('.')[0]) for domain in all_good_domains]\n",
    "bad_lengths = [len(domain.split('.')[0]) for domain in all_bad_domains]\n",
    "\n",
    "plt.figure(figsize=(12, 5))\n",
    "\n",
    "plt.subplot(1, 2, 1)\n",
    "plt.hist(good_lengths, bins=20, alpha=0.7, label='Good domains', color='green')\n",
    "plt.hist(bad_lengths, bins=20, alpha=0.7, label='Bad domains', color='red')\n",
    "plt.xlabel('Domain Name Length (characters)')\n",
    "plt.ylabel('Frequency')\n",
    "plt.title('Domain Length Distribution')\n",
    "plt.legend()\n",
    "\n",
    "# Analyze TLD distribution\n",
    "good_tlds = [domain.split('.')[-1] for domain in all_good_domains]\n",
    "tld_counts = pd.Series(good_tlds).value_counts()\n",
    "\n",
    "plt.subplot(1, 2, 2)\n",
    "tld_counts.plot(kind='bar')\n",
    "plt.title('TLD Distribution in Good Domains')\n",
    "plt.xlabel('TLD')\n",
    "plt.ylabel('Count')\n",
    "plt.xticks(rotation=45)\n",
    "\n",
    "plt.tight_layout()\n",
    "plt.show()"
   ]
  },
  {
   "cell_type": "markdown",
   "metadata": {},
   "source": [
    "## 6. Generate Edge Cases"
   ]
  },
  {
   "cell_type": "code",
   "execution_count": null,
   "metadata": {},
   "outputs": [],
   "source": [
    "# Generate edge cases for testing\n",
    "print(\"Generating edge cases...\")\n",
    "edge_cases = generator.generate_edge_cases(num_cases=200)\n",
    "\n",
    "print(f\"Generated {len(edge_cases)} edge cases\")\n",
    "\n",
    "# Show edge case types\n",
    "edge_case_types = {}\n",
    "for case in edge_cases:\n",
    "    case_type = case['type']\n",
    "    edge_case_types[case_type] = edge_case_types.get(case_type, 0) + 1\n",
    "\n",
    "print(\"\\nEdge case distribution:\")\n",
    "for case_type, count in edge_case_types.items():\n",
    "    print(f\"  {case_type}: {count}\")\n",
    "\n",
    "# Show sample edge cases\n",
    "print(\"\\nSample edge cases:\")\n",
    "for case_type in ['very_short', 'very_long', 'technical_jargon']:\n",
    "    sample_case = next((case for case in edge_cases if case['type'] == case_type), None)\n",
    "    if sample_case:\n",
    "        print(f\"\\n{case_type.upper()}:\")\n",
    "        print(f\"  Description: {sample_case['business_description']}\")\n",
    "        print(f\"  Expected issues: {sample_case['expected_issues']}\")"
   ]
  },
  {
   "cell_type": "markdown",
   "metadata": {},
   "source": [
    "## 7. Save Generated Data"
   ]
  },
  {
   "cell_type": "code",
   "execution_count": null,
   "metadata": {},
   "outputs": [],
   "source": [
    "# Create data directories\n",
    "data_dir = Path('../data')\n",
    "processed_dir = data_dir / 'processed'\n",
    "processed_dir.mkdir(parents=True, exist_ok=True)\n",
    "\n",
    "# Save training dataset\n",
    "train_path = processed_dir / 'training_dataset.json'\n",
    "generator.save_dataset(dataset, str(train_path))\n",
    "print(f\"Training dataset saved to: {train_path}\")\n",
    "\n",
    "# Save edge cases\n",
    "edge_path = processed_dir / 'edge_cases.json'\n",
    "generator.save_dataset(edge_cases, str(edge_path))\n",
    "print(f\"Edge cases saved to: {edge_path}\")\n",
    "\n",
    "# Save dataset statistics\n",
    "stats = {\n",
    "    'total_training_samples': len(dataset),\n",
    "    'total_edge_cases': len(edge_cases),\n",
    "    'business_types': list(df['business_type'].value_counts().to_dict().items()),\n",
    "    'complexity_levels': list(df['complexity'].value_counts().to_dict().items()),\n",
    "    'edge_case_types': list(edge_case_types.items()),\n",
    "    'avg_good_domains_per_sample': len(all_good_domains) / len(dataset),\n",
    "    'avg_domain_length': sum(good_lengths) / len(good_lengths)\n",
    "}\n",
    "\n",
    "stats_path = processed_dir / 'dataset_stats.json'\n",
    "with open(stats_path, 'w') as f:\n",
    "    json.dump(stats, f, indent=2)\n",
    "\n",
    "print(f\"Dataset statistics saved to: {stats_path}\")\n",
    "print(\"\\nDataset creation complete!\")"
   ]
  },
  {
   "cell_type": "markdown",
   "metadata": {},
   "source": [
    "## Summary\n",
    "\n",
    "In this notebook, we:\n",
    "\n",
    "1. **Created a synthetic data generator** that produces diverse business descriptions\n",
    "2. **Generated training examples** with good, mediocre, and bad domain suggestions\n",
    "3. **Analyzed the dataset** to ensure good distribution across business types and complexity levels\n",
    "4. **Created edge cases** for testing model robustness\n",
    "5. **Saved all data** for use in model training and evaluation\n",
    "\n",
    "The generated dataset includes:\n",
    "- 1,000 training examples across 10 business types\n",
    "- 3 complexity levels (simple, medium, complex)\n",
    "- Multiple domain quality levels for each business description\n",
    "- 200 edge cases covering various failure modes\n",
    "\n",
    "This synthetic dataset provides a solid foundation for training domain generation models while ensuring comprehensive coverage of different business scenarios and potential edge cases."
   ]
  }
 ],
 "metadata": {
  "kernelspec": {
   "display_name": "Python 3",
   "language": "python",
   "name": "python3"
  },
  "language_info": {
   "codemirror_mode": {
    "name": "ipython",
    "version": 3
   },
   "file_extension": ".py",
   "mimetype": "text/x-python",
   "name": "python",
   "nbconvert_exporter": "python",
   "pygments_lexer": "ipython3",
   "version": "3.9.0"
  }
 },
 "nbformat": 4,
 "nbformat_minor": 4
}